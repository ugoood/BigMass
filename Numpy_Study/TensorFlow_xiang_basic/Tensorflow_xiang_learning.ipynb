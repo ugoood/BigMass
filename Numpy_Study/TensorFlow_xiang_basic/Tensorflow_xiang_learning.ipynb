{
 "cells": [
  {
   "cell_type": "markdown",
   "metadata": {
    "deletable": true,
    "editable": true
   },
   "source": [
    "# Tensorflow\n",
    "date: March 12th, 2017 <br>\n",
    "by xiang"
   ]
  },
  {
   "cell_type": "markdown",
   "metadata": {},
   "source": [
    "## 1. Tensorflow basic framework\n",
    "## 1. 1 Simple example"
   ]
  },
  {
   "cell_type": "code",
   "execution_count": 28,
   "metadata": {
    "collapsed": false,
    "deletable": true,
    "editable": true
   },
   "outputs": [
    {
     "name": "stdout",
     "output_type": "stream",
     "text": [
      "0.771288\n",
      "(0, 'Weight: ', 0.70428032, 'biases: ', -0.037255593)\n",
      "(20, 'Weight: ', 0.28981817, 'biases: ', 0.19889756)\n",
      "(40, 'Weight: ', 0.15900235, 'biases: ', 0.26857373)\n",
      "(60, 'Weight: ', 0.11834005, 'biases: ', 0.29023159)\n",
      "(80, 'Weight: ', 0.10570076, 'biases: ', 0.29696363)\n",
      "(100, 'Weight: ', 0.10177203, 'biases: ', 0.29905617)\n",
      "(120, 'Weight: ', 0.10055082, 'biases: ', 0.29970664)\n",
      "(140, 'Weight: ', 0.10017122, 'biases: ', 0.29990882)\n",
      "(160, 'Weight: ', 0.10005321, 'biases: ', 0.29997167)\n",
      "(180, 'Weight: ', 0.10001656, 'biases: ', 0.29999119)\n",
      "(200, 'Weight: ', 0.10000513, 'biases: ', 0.29999727)\n"
     ]
    }
   ],
   "source": [
    "import tensorflow as tf\n",
    "import numpy as np\n",
    "import matplotlib.pyplot as plt\n",
    "\n",
    "# tensorflow中很能认 float 32\n",
    "# create data\n",
    "x_data = np.random.rand(100).astype(np.float32)     # 0. 初始准备工作，100个(x, y) couple，定义上帝函数关系\n",
    "y_data = x_data*0.1 + 0.3\n",
    "\n",
    "### create tf structure start ###\n",
    "Weights =  tf.Variable(tf.random_uniform([1], -1.0, 1.0))    # 0.1 构造 Weights, biases, 数据起源之一\n",
    "biases = tf.Variable(tf.zeros([1]))     # [1] 代表啥？\n",
    "\n",
    "y = Weights*x_data + biases\n",
    "\n",
    "loss = tf.reduce_mean(tf.square(y-y_data))                 #  1. 定义loss function\n",
    "optimizer = tf.train.GradientDescentOptimizer(0.5) #  2. 定义最优化方法 0.5 is learning rate\n",
    "train = optimizer.minimize(loss)                                     # 3. 把 train 和 optimizer, 趋向， loss func 联系起来\n",
    "\n",
    "init = tf.global_variables_initializer()                               # 4. 初始化 各种参数\n",
    "### create tf structure end ###\n",
    "\n",
    "sess = tf.Session()                                                             # 5. 定义 tf.Session()\n",
    "sess.run(init)                                                                      # 6.  激活   Very important\n",
    "\n",
    "for step in range(201):\n",
    "    sess.run(train)\n",
    "    if step % 20 == 0:\n",
    "        print(step, 'Weight: ', sess.run(Weights)[0], 'biases: ', sess.run(biases)[0])\n",
    "\n"
   ]
  },
  {
   "cell_type": "markdown",
   "metadata": {
    "collapsed": true,
    "deletable": true,
    "editable": true
   },
   "source": [
    "## 1. 2 Session control\n",
    "Session 的打开模式"
   ]
  },
  {
   "cell_type": "code",
   "execution_count": 6,
   "metadata": {
    "collapsed": false
   },
   "outputs": [
    {
     "name": "stdout",
     "output_type": "stream",
     "text": [
      "[[12]]\n",
      "[[12]]\n"
     ]
    }
   ],
   "source": [
    "import tensorflow as tf\n",
    "import numpy as np\n",
    "\n",
    "matrix1 = tf.constant([[3, 3]])      #一行两列\n",
    "matrix2 = tf.constant([[2],            # 二行一列\n",
    "                                          [2]])\n",
    "\n",
    "# matrix multiply np.dot(m1, m2)\n",
    "product = tf.matmul(matrix1, matrix2)   \n",
    "\n",
    "#####    method 1   #####\n",
    "sess = tf.Session()\n",
    "\n",
    "# 每run一次， tensorflow就执行一次结构\n",
    "result  = sess.run(product) \n",
    "\n",
    "print(result)\n",
    "sess.close()\n",
    "#####################\n",
    "\n",
    "##### method 2 #########\n",
    "with tf.Session() as sess:      # 运行完，自己关sess\n",
    "    result2 = sess.run(product)\n",
    "    print(result2)\n",
    "\n"
   ]
  },
  {
   "cell_type": "markdown",
   "metadata": {},
   "source": [
    "## 1.3 Variable\n",
    "程序中如果定义了 <font color = red>**Variable**</font> ，一定要有： <br>\n",
    "```python\n",
    "init  = tf.global_variables_initializer() \n",
    "\n",
    "# 并在 定义好的 sess 中，执行一次：\n",
    "sess.run(init)\n",
    "```"
   ]
  },
  {
   "cell_type": "code",
   "execution_count": 25,
   "metadata": {
    "collapsed": false
   },
   "outputs": [
    {
     "name": "stdout",
     "output_type": "stream",
     "text": [
      "1\n",
      "2\n",
      "3\n"
     ]
    }
   ],
   "source": [
    "import tensorflow as tf\n",
    "\n",
    "state = tf.Variable(0, name = 'counter')   # 初值 0， 变量名字 counter\n",
    "# print(state.name)\n",
    "one = tf.constant(1)   # 常量\n",
    "\n",
    "new_value = tf.add(state, one)\n",
    "update = tf.assign(state, new_value)\n",
    "\n",
    "# 如果定义了tf的变量，那么一定要有下面的initialize\n",
    "init  = tf.global_variables_initializer()  # must have if define variables\n",
    "\n",
    "with tf.Session() as sess:\n",
    "    sess.run(init)\n",
    "    for _ in range(3):       # 执行3次 update 动作\n",
    "        sess.run(update)\n",
    "        print(sess.run(state))    # print(state) 木用"
   ]
  },
  {
   "cell_type": "markdown",
   "metadata": {},
   "source": [
    "## 1.4 Placeholder 传入值\n",
    "tf.placeholder(tf.float32) 的使用意味着：sess.run()的时候，需填入所需的值，并和下列的 feed_dict 绑定。 "
   ]
  },
  {
   "cell_type": "code",
   "execution_count": 28,
   "metadata": {
    "collapsed": false
   },
   "outputs": [
    {
     "name": "stdout",
     "output_type": "stream",
     "text": [
      "[ 14.]\n"
     ]
    }
   ],
   "source": [
    "import tensorflow as tf\n",
    "\n",
    "# 2 行 2 列 的结构   tf.placeholder(tf.float32, [2, 2])\n",
    "\n",
    "input1 = tf.placeholder(tf.float32)      # tf大部分只能处理 float32\n",
    "input2 = tf.placeholder(tf.float32)\n",
    "\n",
    "output = tf.mul(input1, input2)\n",
    "\n",
    "# 运行时，才输入数据， 用到 placeholder\n",
    "# 注意下面  dictionary 的形式\n",
    "with tf.Session() as sess:\n",
    "    print(sess.run(output, feed_dict = {input1:[7.], input2:[2.0]}))\n"
   ]
  },
  {
   "cell_type": "markdown",
   "metadata": {},
   "source": [
    "## 1.5 Activation function\n",
    "https://www.tensorflow.org/api_guides/python/nn <br>\n",
    "The activation ops provide different types of nonlinearities for use in neural networks. These include smooth nonlinearities (sigmoid, tanh, elu, softplus, and softsign), continuous but not everywhere differentiable functions (relu, relu6, crelu and relu_x), and random regularization (dropout)."
   ]
  },
  {
   "cell_type": "markdown",
   "metadata": {},
   "source": [
    "## 2. Establish our first NN\n",
    "## 2.1 def 添加层\n",
    "假设有$X$有$m$个输入，隐层有$n$个神经元：\n",
    "$X_{1\\times m}W_{m\\times n}+b_{1\\times n}$ 结果为1行n列数据（每个元素再经过activation function后，就是含有n个神经元的某层的输出）"
   ]
  },
  {
   "cell_type": "code",
   "execution_count": 29,
   "metadata": {
    "collapsed": true
   },
   "outputs": [],
   "source": [
    "import tensorflow as tf\n",
    "\n",
    "def add_layer(inputs, in_size, out_size, activation_function = None):\n",
    "    # 定义有 in_size 行， out_size 列的 Weight 矩阵\n",
    "    # biases = 1*out_size\n",
    "    Weights = tf.Variable(tf.random_normal([in_size, out_size]))\n",
    "    biases = tf.Variable(tf.zeros([1, out_size]) + 0.1)\n",
    "    Wx_plus_b = tf.matmul(inputs, Weights) + biases\n",
    "    if activation_function is None:\n",
    "        outputs = Wx_plus_b\n",
    "    else:\n",
    "        outputs = activation_function(Wx_plus_b)\n",
    "    return outputs"
   ]
  },
  {
   "cell_type": "code",
   "execution_count": null,
   "metadata": {
    "collapsed": true
   },
   "outputs": [],
   "source": []
  }
 ],
 "metadata": {
  "kernelspec": {
   "display_name": "Python 2",
   "language": "python",
   "name": "python2"
  },
  "language_info": {
   "codemirror_mode": {
    "name": "ipython",
    "version": 2
   },
   "file_extension": ".py",
   "mimetype": "text/x-python",
   "name": "python",
   "nbconvert_exporter": "python",
   "pygments_lexer": "ipython2",
   "version": "2.7.6"
  }
 },
 "nbformat": 4,
 "nbformat_minor": 2
}
