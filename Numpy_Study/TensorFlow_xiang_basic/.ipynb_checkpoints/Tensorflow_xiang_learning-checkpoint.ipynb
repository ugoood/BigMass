{
 "cells": [
  {
   "cell_type": "markdown",
   "metadata": {
    "deletable": true,
    "editable": true
   },
   "source": [
    "# Tensorflow\n",
    "date: March 12th, 2017 <br>\n",
    "by xiang"
   ]
  },
  {
   "cell_type": "markdown",
   "metadata": {
    "deletable": true,
    "editable": true
   },
   "source": [
    "## 1. Tensorflow basic framework\n",
    "## 1. 1 Simple example"
   ]
  },
  {
   "cell_type": "code",
   "execution_count": 1,
   "metadata": {
    "collapsed": false,
    "deletable": true,
    "editable": true
   },
   "outputs": [
    {
     "name": "stdout",
     "output_type": "stream",
     "text": [
      "(0, 'Weight: ', -0.068702161, 'biases: ', 0.52432108)\n",
      "(20, 'Weight: ', 0.038427848, 'biases: ', 0.3320089)\n",
      "(40, 'Weight: ', 0.083121628, 'biases: ', 0.30877438)\n",
      "(60, 'Weight: ', 0.095373228, 'biases: ', 0.30240527)\n",
      "(80, 'Weight: ', 0.098731697, 'biases: ', 0.30065936)\n",
      "(100, 'Weight: ', 0.099652313, 'biases: ', 0.30018076)\n",
      "(120, 'Weight: ', 0.099904686, 'biases: ', 0.30004957)\n",
      "(140, 'Weight: ', 0.099973872, 'biases: ', 0.3000136)\n",
      "(160, 'Weight: ', 0.099992819, 'biases: ', 0.30000374)\n",
      "(180, 'Weight: ', 0.09999802, 'biases: ', 0.30000103)\n",
      "(200, 'Weight: ', 0.099999458, 'biases: ', 0.30000028)\n"
     ]
    }
   ],
   "source": [
    "import tensorflow as tf\n",
    "import numpy as np\n",
    "import matplotlib.pyplot as plt\n",
    "\n",
    "# tensorflow中很能认 float 32\n",
    "# create data\n",
    "x_data = np.random.rand(100).astype(np.float32)     # 0. 初始准备工作，100个(x, y) couple，定义上帝函数关系\n",
    "y_data = x_data*0.1 + 0.3\n",
    "\n",
    "### create tf structure start ###\n",
    "Weights =  tf.Variable(tf.random_uniform([1], -1.0, 1.0))    # 0.1 构造 Weights, biases, 数据起源之一\n",
    "biases = tf.Variable(tf.zeros([1]))     # [1] 代表啥？\n",
    "\n",
    "y = Weights*x_data + biases\n",
    "\n",
    "loss = tf.reduce_mean(tf.square(y-y_data))                 #  1. 定义loss function\n",
    "optimizer = tf.train.GradientDescentOptimizer(0.5) #  2. 定义最优化方法 0.5 is learning rate\n",
    "train = optimizer.minimize(loss)                                     # 3. 把 train 和 optimizer, 趋向， loss func 联系起来\n",
    "\n",
    "init = tf.global_variables_initializer()                               # 4. 初始化 各种参数\n",
    "### create tf structure end ###\n",
    "\n",
    "sess = tf.Session()                                                             # 5. 定义 tf.Session()\n",
    "sess.run(init)                                                                      # 6.  激活   Very important\n",
    "\n",
    "for step in range(201):\n",
    "    sess.run(train)\n",
    "    if step % 20 == 0:\n",
    "        print(step, 'Weight: ', sess.run(Weights)[0], 'biases: ', sess.run(biases)[0])\n",
    "\n"
   ]
  },
  {
   "cell_type": "markdown",
   "metadata": {
    "collapsed": true,
    "deletable": true,
    "editable": true
   },
   "source": [
    "## 1. 2 Session control\n",
    "Session 的打开模式"
   ]
  },
  {
   "cell_type": "code",
   "execution_count": 2,
   "metadata": {
    "collapsed": false,
    "deletable": true,
    "editable": true
   },
   "outputs": [
    {
     "name": "stdout",
     "output_type": "stream",
     "text": [
      "[[12]]\n",
      "[[12]]\n"
     ]
    }
   ],
   "source": [
    "import tensorflow as tf\n",
    "import numpy as np\n",
    "\n",
    "matrix1 = tf.constant([[3, 3]])      #一行两列\n",
    "matrix2 = tf.constant([[2],            # 二行一列\n",
    "                                          [2]])\n",
    "\n",
    "# matrix multiply np.dot(m1, m2)\n",
    "product = tf.matmul(matrix1, matrix2)   \n",
    "\n",
    "#####    method 1   #####\n",
    "sess = tf.Session()\n",
    "\n",
    "# 每run一次， tensorflow就执行一次结构\n",
    "result  = sess.run(product) \n",
    "\n",
    "print(result)\n",
    "sess.close()\n",
    "#####################\n",
    "\n",
    "##### method 2 #########\n",
    "with tf.Session() as sess:      # 运行完，自己关sess\n",
    "    result2 = sess.run(product)\n",
    "    print(result2)\n",
    "\n"
   ]
  },
  {
   "cell_type": "markdown",
   "metadata": {
    "deletable": true,
    "editable": true
   },
   "source": [
    "## 1.3 Variable\n",
    "程序中如果定义了 <font color = red>**Variable**</font> ，一定要有： <br>\n",
    "```python\n",
    "init  = tf.global_variables_initializer() \n",
    "\n",
    "# 并在 定义好的 sess 中，执行一次：\n",
    "sess.run(init)\n",
    "```"
   ]
  },
  {
   "cell_type": "code",
   "execution_count": 3,
   "metadata": {
    "collapsed": false,
    "deletable": true,
    "editable": true
   },
   "outputs": [
    {
     "name": "stdout",
     "output_type": "stream",
     "text": [
      "1\n",
      "2\n",
      "3\n"
     ]
    }
   ],
   "source": [
    "import tensorflow as tf\n",
    "\n",
    "state = tf.Variable(0, name = 'counter')   # 初值 0， 变量名字 counter\n",
    "# print(state.name)\n",
    "one = tf.constant(1)   # 常量\n",
    "\n",
    "new_value = tf.add(state, one)\n",
    "update = tf.assign(state, new_value)\n",
    "\n",
    "# 如果定义了tf的变量，那么一定要有下面的initialize\n",
    "init  = tf.global_variables_initializer()  # must have if define variables\n",
    "\n",
    "with tf.Session() as sess:\n",
    "    sess.run(init)\n",
    "    for _ in range(3):       # 执行3次 update 动作\n",
    "        sess.run(update)\n",
    "        print(sess.run(state))    # print(state) 木用"
   ]
  },
  {
   "cell_type": "markdown",
   "metadata": {
    "deletable": true,
    "editable": true
   },
   "source": [
    "## 1.4 Placeholder 传入值\n",
    "tf.placeholder(tf.float32) 的使用意味着：sess.run()的时候，需填入所需的值，并和下列的 feed_dict 绑定。 "
   ]
  },
  {
   "cell_type": "code",
   "execution_count": 4,
   "metadata": {
    "collapsed": false,
    "deletable": true,
    "editable": true
   },
   "outputs": [
    {
     "name": "stdout",
     "output_type": "stream",
     "text": [
      "[ 14.]\n"
     ]
    }
   ],
   "source": [
    "import tensorflow as tf\n",
    "\n",
    "# 2 行 2 列 的结构   tf.placeholder(tf.float32, [2, 2])\n",
    "\n",
    "input1 = tf.placeholder(tf.float32)      # tf大部分只能处理 float32\n",
    "input2 = tf.placeholder(tf.float32)\n",
    "\n",
    "output = tf.mul(input1, input2)\n",
    "\n",
    "# 运行时，才输入数据， 用到 placeholder\n",
    "# 注意下面  dictionary 的形式\n",
    "with tf.Session() as sess:\n",
    "    print(sess.run(output, feed_dict = {input1:[7.], input2:[2.0]}))\n"
   ]
  },
  {
   "cell_type": "markdown",
   "metadata": {
    "deletable": true,
    "editable": true
   },
   "source": [
    "## 1.5 Activation function\n",
    "https://www.tensorflow.org/api_guides/python/nn <br>\n",
    "The activation ops provide different types of nonlinearities for use in neural networks. These include smooth nonlinearities (sigmoid, tanh, elu, softplus, and softsign), continuous but not everywhere differentiable functions (relu, relu6, crelu and relu_x), and random regularization (dropout)."
   ]
  },
  {
   "cell_type": "markdown",
   "metadata": {
    "deletable": true,
    "editable": true
   },
   "source": [
    "## 2. Establish our first NN\n",
    "## 2.1 def 添加层\n",
    "假设有$X$有$m$个输入，隐层有$n$个神经元：\n",
    "$X_{1\\times m}W_{m\\times n}+b_{1\\times n}$ 结果为1行n列数据（每个元素再经过activation function后，就是含有n个神经元的某层的输出）"
   ]
  },
  {
   "cell_type": "code",
   "execution_count": 5,
   "metadata": {
    "collapsed": true,
    "deletable": true,
    "editable": true
   },
   "outputs": [],
   "source": [
    "import tensorflow as tf\n",
    "\n",
    "def add_layer(inputs, in_size, out_size, activation_function = None):\n",
    "    # 定义有 in_size 行， out_size 列的 Weight 矩阵\n",
    "    # biases = 1*out_size\n",
    "    Weights = tf.Variable(tf.random_normal([in_size, out_size]))\n",
    "    biases = tf.Variable(tf.zeros([1, out_size]) + 0.1)\n",
    "    Wx_plus_b = tf.matmul(inputs, Weights) + biases\n",
    "    if activation_function is None:\n",
    "        outputs = Wx_plus_b\n",
    "    else:\n",
    "        outputs = activation_function(Wx_plus_b)\n",
    "    return outputs"
   ]
  },
  {
   "cell_type": "markdown",
   "metadata": {
    "collapsed": true,
    "deletable": true,
    "editable": true
   },
   "source": [
    "## 2.2 Establish NN"
   ]
  },
  {
   "cell_type": "code",
   "execution_count": 6,
   "metadata": {
    "collapsed": false,
    "deletable": true,
    "editable": true
   },
   "outputs": [
    {
     "name": "stdout",
     "output_type": "stream",
     "text": [
      "0.722768\n",
      "0.018376\n",
      "0.00959883\n",
      "0.00606999\n",
      "0.00461111\n",
      "0.00402102\n",
      "0.00371359\n",
      "0.00353213\n",
      "0.00340656\n",
      "0.00330776\n",
      "0.00321338\n",
      "0.00314122\n",
      "0.00306944\n",
      "0.00300873\n",
      "0.00295722\n",
      "0.00290934\n",
      "0.00286256\n",
      "0.00281996\n",
      "0.00277654\n",
      "0.00273606\n"
     ]
    }
   ],
   "source": [
    "import tensorflow as tf\n",
    "import numpy as np\n",
    "\n",
    "# 我们在下列 code 中做了个定义，既，当 activation_function = None, 则激励函数是 f(x) = x\n",
    "def add_layer(inputs, in_size, out_size, activation_function = None):\n",
    "    # 定义有 in_size 行， out_size 列的 Weight 矩阵\n",
    "    # biases = 1*out_size\n",
    "    Weights = tf.Variable(tf.random_normal([in_size, out_size]))\n",
    "    biases = tf.Variable(tf.zeros([1, out_size]) + 0.1)\n",
    "    Wx_plus_b = tf.matmul(inputs, Weights) + biases\n",
    "    \n",
    "    if activation_function is None:\n",
    "        outputs = Wx_plus_b\n",
    "    else:\n",
    "        outputs = activation_function(Wx_plus_b)\n",
    "    return outputs\n",
    "\n",
    "####  自己造的数据 ####\n",
    "x_data = np.linspace(-1, 1, 300)[:, np.newaxis]       #  (300, 1)\n",
    "noise = np.random.normal(0, 0.05, x_data.shape) # mean, std, shape\n",
    "y_data = np.square(x_data) - 0.5 + noise\n",
    "###################\n",
    "\n",
    "# None 表示无论给多少个sample都可以, 1表示每个instance的维度=1\n",
    "xs = tf.placeholder(tf.float32, [None, 1])     \n",
    "ys = tf.placeholder(tf.float32, [None, 1])\n",
    "\n",
    "#### 想建一个 3层 NN ####\n",
    "# input layer 1 个， hiden layer 10 个， output layer 1 个\n",
    "# 这个例子与textbook的NN例子不同：\n",
    "# textbook中输出层，隐藏层的activation_function是相同的，\n",
    "# 一般为sigmoid\n",
    "l1 = add_layer(xs, 1, 10, activation_function = tf.nn.relu)\n",
    "prediction = add_layer(l1, 10, 1, activation_function = None)\n",
    "\n",
    "loss = tf.reduce_mean(tf.reduce_sum(tf.square(ys - prediction), \n",
    "                    reduction_indices = [1]))\n",
    "train_step = tf.train.GradientDescentOptimizer(0.1).minimize(loss)\n",
    "\n",
    "# important step\n",
    "init = tf.global_variables_initializer()    # 初始所有的变量\n",
    "sess = tf.Session()\n",
    "sess.run(init)     # 到sess.run 才运行\n",
    "\n",
    "for i in range(1000):\n",
    "    # training\n",
    "    \n",
    "    # 这次， 我们用全部的数据 x_data 进行 training\n",
    "    # 也可指定用部分数据进行training\n",
    "    sess.run(train_step, feed_dict = {xs : x_data, ys : y_data})\n",
    "    if i % 50 == 0:\n",
    "        # 只要涉及到 placeholder 的东西，都需要 feed_dict\n",
    "        print(sess.run(loss, feed_dict = {xs : x_data, ys : y_data}))\n",
    "\n",
    "# 问题：  1. 咋看最后的模型参数，既 Weights   and    biases\n",
    "#                2. 上面代码 reduction_indices = [1] 是个什么鬼？"
   ]
  },
  {
   "cell_type": "code",
   "execution_count": 7,
   "metadata": {
    "collapsed": false,
    "deletable": true,
    "editable": true
   },
   "outputs": [
    {
     "data": {
      "text/plain": [
       "(300, 1)"
      ]
     },
     "execution_count": 7,
     "metadata": {},
     "output_type": "execute_result"
    }
   ],
   "source": [
    "x_data.shape"
   ]
  },
  {
   "cell_type": "markdown",
   "metadata": {
    "deletable": true,
    "editable": true
   },
   "source": [
    "<font color = red>上面代码 reduction_indices = [1] 是个什么鬼？表按哪个维度reduction, 解释如下：</font><br>\n",
    "解释材料来源： https://www.zhihu.com/question/51325408?from=profile_question_card"
   ]
  },
  {
   "cell_type": "code",
   "execution_count": 8,
   "metadata": {
    "collapsed": false,
    "deletable": true,
    "editable": true
   },
   "outputs": [
    {
     "data": {
      "text/plain": [
       "6"
      ]
     },
     "execution_count": 8,
     "metadata": {},
     "output_type": "execute_result"
    }
   ],
   "source": [
    "import tensorflow as tf\n",
    "x = [[1,1,1],\n",
    "        [1,1,1]]\n",
    "sess = tf.Session()\n",
    "sess.run(tf.reduce_sum(x))"
   ]
  },
  {
   "cell_type": "code",
   "execution_count": 9,
   "metadata": {
    "collapsed": false,
    "deletable": true,
    "editable": true
   },
   "outputs": [
    {
     "data": {
      "text/plain": [
       "array([2, 2, 2], dtype=int32)"
      ]
     },
     "execution_count": 9,
     "metadata": {},
     "output_type": "execute_result"
    }
   ],
   "source": [
    "sess.run(tf.reduce_sum(x, 0))"
   ]
  },
  {
   "cell_type": "code",
   "execution_count": 10,
   "metadata": {
    "collapsed": false,
    "deletable": true,
    "editable": true
   },
   "outputs": [
    {
     "data": {
      "text/plain": [
       "array([3, 3], dtype=int32)"
      ]
     },
     "execution_count": 10,
     "metadata": {},
     "output_type": "execute_result"
    }
   ],
   "source": [
    "sess.run(tf.reduce_sum(x, 1))"
   ]
  },
  {
   "cell_type": "markdown",
   "metadata": {
    "deletable": true,
    "editable": true
   },
   "source": [
    "***CAUSION***: 下面的例子， <font color = red>[]里始终表达的是x的维度, 而不是上面例子的结果[3, 3]的维度</font>。"
   ]
  },
  {
   "cell_type": "code",
   "execution_count": 11,
   "metadata": {
    "collapsed": false,
    "deletable": true,
    "editable": true,
    "scrolled": true
   },
   "outputs": [
    {
     "data": {
      "text/plain": [
       "6"
      ]
     },
     "execution_count": 11,
     "metadata": {},
     "output_type": "execute_result"
    }
   ],
   "source": [
    "sess.run(tf.reduce_sum(x, [1, 0]))     # []里始终表达的是x的维度"
   ]
  },
  {
   "cell_type": "code",
   "execution_count": 12,
   "metadata": {
    "collapsed": false,
    "deletable": true,
    "editable": true
   },
   "outputs": [
    {
     "data": {
      "text/plain": [
       "array([3, 3], dtype=int32)"
      ]
     },
     "execution_count": 12,
     "metadata": {},
     "output_type": "execute_result"
    }
   ],
   "source": [
    "sess.run(tf.reduce_sum(x, [1, 1]))"
   ]
  },
  {
   "cell_type": "markdown",
   "metadata": {
    "deletable": true,
    "editable": true
   },
   "source": [
    "输出结果<font color = green>保持</font>了x的shape:"
   ]
  },
  {
   "cell_type": "code",
   "execution_count": 13,
   "metadata": {
    "collapsed": false,
    "deletable": true,
    "editable": true
   },
   "outputs": [
    {
     "data": {
      "text/plain": [
       "array([[3],\n",
       "       [3]], dtype=int32)"
      ]
     },
     "execution_count": 13,
     "metadata": {},
     "output_type": "execute_result"
    }
   ],
   "source": [
    "sess.run(tf.reduce_sum(x, 1, keep_dims = True)) "
   ]
  },
  {
   "cell_type": "markdown",
   "metadata": {
    "deletable": true,
    "editable": true
   },
   "source": [
    "## 2.3 Results visualization"
   ]
  },
  {
   "cell_type": "code",
   "execution_count": 14,
   "metadata": {
    "collapsed": false,
    "deletable": true,
    "editable": true
   },
   "outputs": [
    {
     "data": {
      "image/png": "[encoded data removed]",
      "text/plain": [
       "<matplotlib.figure.Figure at 0x7f89f8472110>"
      ]
     },
     "metadata": {},
     "output_type": "display_data"
    }
   ],
   "source": [
    "# This example do not work well in jupyter notebook, but in original\n",
    "# python terminal, is ok.\n",
    "\n",
    "import tensorflow as tf\n",
    "import numpy as np\n",
    "import matplotlib.pyplot as plt      # <-------  new\n",
    "\n",
    "# define a function named add_layer\n",
    "def add_layer(inputs, in_size, out_size, activation_function = None):\n",
    "    Weights = tf.Variable(tf.random_normal([in_size, out_size]))\n",
    "    biases = tf.Variable(tf.zeros([1, out_size]) + 0.1)\n",
    "    Wx_plus_b = tf.matmul(inputs, Weights) + biases\n",
    "    \n",
    "    if activation_function is None:\n",
    "        outputs = Wx_plus_b\n",
    "    else:\n",
    "        outputs = activation_function(Wx_plus_b)\n",
    "    return outputs\n",
    "\n",
    "# Make some data with noises\n",
    "x_data = np.linspace(-1, 1, 300)[:, np.newaxis]       \n",
    "noise = np.random.normal(0, 0.05, x_data.shape) \n",
    "y_data = np.square(x_data) - 0.5 + noise\n",
    "\n",
    "# add two placeholders reference with x_data and y_data in the future.\n",
    "xs = tf.placeholder(tf.float32, [None, 1])\n",
    "ys = tf.placeholder(tf.float32, [None, 1])\n",
    "\n",
    "# add a hidden layer\n",
    "l1 = add_layer(xs, 1, 10, activation_function = tf.nn.relu)\n",
    "\n",
    "# add an output layer\n",
    "prediction = add_layer(l1, 10, 1, activation_function = None)\n",
    "\n",
    "# the error between prediction and real data\n",
    "loss = tf.reduce_mean(tf.reduce_sum(tf.square(ys - prediction), \n",
    "                    reduction_indices = [1]))\n",
    "train_step = tf.train.GradientDescentOptimizer(0.1).minimize(loss)\n",
    "\n",
    "# important step\n",
    "init = tf.global_variables_initializer()\n",
    "sess = tf.Session()\n",
    "sess.run(init)\n",
    "\n",
    "# figure\n",
    "fig = plt.figure()              # <----------- new\n",
    "ax = fig.add_subplot(1, 1, 1)     # 一个画布内，图的位置控制\n",
    "ax.scatter(x_data, y_data)\n",
    "# plt.ion()      # work in python3.5\n",
    "plt.show(block = False)\n",
    "# plt.show()\n",
    "\n",
    "for i in range(1000):\n",
    "    # training\n",
    "    sess.run(train_step, feed_dict = {xs : x_data, ys : y_data})\n",
    "    if i % 50 == 0:\n",
    "        # to see the step improvement\n",
    "        # print(sess.run(loss, feed_dict = {xs : x_data, ys : y_data}))\n",
    "        try:\n",
    "            ax.lines.remove(lines[0])     # \n",
    "        except Exception:\n",
    "            pass\n",
    "        \n",
    "        prediction_value = sess.run(prediction, feed_dict = {xs:x_data})\n",
    "        # x_data是横坐标(这里是个向量)，pre_value是纵坐标（也是个向量）\n",
    "        lines = ax.plot(x_data, prediction_value, 'r-', lw = 5)  \n",
    "        \n",
    "        plt.pause(0.1)    # to pause 0.1 sec\n",
    "        "
   ]
  },
  {
   "cell_type": "markdown",
   "metadata": {
    "deletable": true,
    "editable": true
   },
   "source": [
    "## 2.4 Optimizer\n",
    "https://www.tensorflow.org/versions/master/api_docs/python/train/\n",
    "<br>\n",
    "* <font color = blue>tf.train.GradientDescentOptimizer</font> would change to SocasticGradientDecentOptimizer if we feed <font color = red>non-full-size training data</font> to a learner.\n",
    "* Frequence used important optimizer: <font color = red>tf.train.MomentumOptimizer</font> considers the previous learning rate then to decide current learning rate value. Hence, this optimizer would faster than other else.\n",
    "* Frequence used important optimizer: <font color = red>tf.train.AdamOptimizer</font>"
   ]
  },
  {
   "cell_type": "markdown",
   "metadata": {
    "collapsed": true,
    "deletable": true,
    "editable": true
   },
   "source": [
    "## 3. Tensorboard (a nice visualization assitant)\n",
    "## 3.1 Tensorboard1"
   ]
  },
  {
   "cell_type": "code",
   "execution_count": 16,
   "metadata": {
    "collapsed": true,
    "deletable": true,
    "editable": true
   },
   "outputs": [],
   "source": [
    "\"\"\"\n",
    "Please note, this code is only for python 3+. If you are using python 2+, please modify the code accordingly.\n",
    "\"\"\"\n",
    "from __future__ import print_function\n",
    "import tensorflow as tf\n",
    "\n",
    "\n",
    "def add_layer(inputs, in_size, out_size, activation_function=None):\n",
    "    # add one more layer and return the output of this layer\n",
    "    with tf.name_scope('layer'):\n",
    "        with tf.name_scope('weights'):\n",
    "            Weights = tf.Variable(tf.random_normal([in_size, out_size]), name='W')\n",
    "        with tf.name_scope('biases'):\n",
    "            biases = tf.Variable(tf.zeros([1, out_size]) + 0.1, name='b')\n",
    "        with tf.name_scope('Wx_plus_b'):\n",
    "            Wx_plus_b = tf.add(tf.matmul(inputs, Weights), biases)\n",
    "        if activation_function is None:\n",
    "            outputs = Wx_plus_b\n",
    "        else:\n",
    "            outputs = activation_function(Wx_plus_b, )\n",
    "        return outputs\n",
    "\n",
    "\n",
    "# define placeholder for inputs to network\n",
    "with tf.name_scope('inputs'):\n",
    "    xs = tf.placeholder(tf.float32, [None, 1], name='x_input')\n",
    "    ys = tf.placeholder(tf.float32, [None, 1], name='y_input')\n",
    "\n",
    "# add hidden layer\n",
    "l1 = add_layer(xs, 1, 10, activation_function=tf.nn.relu)\n",
    "# add output layer\n",
    "prediction = add_layer(l1, 10, 1, activation_function=None)\n",
    "\n",
    "# the error between prediciton and real data\n",
    "with tf.name_scope('loss'):\n",
    "    loss = tf.reduce_mean(tf.reduce_sum(tf.square(ys - prediction),\n",
    "                                        reduction_indices=[1]))\n",
    "\n",
    "with tf.name_scope('train'):\n",
    "    train_step = tf.train.GradientDescentOptimizer(0.1).minimize(loss)\n",
    "\n",
    "sess = tf.Session()\n",
    "\n",
    "# tf.train.SummaryWriter soon be deprecated, use following\n",
    "if int((tf.__version__).split('.')[1]) < 12 and int((tf.__version__).split('.')[0]) < 1:  # tensorflow version < 0.12\n",
    "    writer = tf.train.SummaryWriter('logs/', sess.graph) #把前面信息手机起来，放到这个graph里\n",
    "else: # tensorflow version >= 0.12\n",
    "    writer = tf.summary.FileWriter(\"logs/\", sess.graph)\n",
    "\n",
    "# tf.initialize_all_variables() no long valid from\n",
    "# 2017-03-02 if using tensorflow >= 0.12\n",
    "if int((tf.__version__).split('.')[1]) < 12 and int((tf.__version__).split('.')[0]) < 1:\n",
    "    init = tf.initialize_all_variables()\n",
    "else:\n",
    "    init = tf.global_variables_initializer()\n",
    "sess.run(init)\n",
    "\n",
    "# direct to the local dir and run this in terminal:\n",
    "# $ tensorboard --logdir=logs\n",
    "\n",
    "# 进入logs上一层目录，运行 tensorboard --logdir=logs\n",
    "# 赋值网址到浏览器\n"
   ]
  },
  {
   "cell_type": "markdown",
   "metadata": {
    "collapsed": true,
    "deletable": true,
    "editable": true
   },
   "source": [
    "## 3.2 Tensorboard 2\n",
    "暂时先不弄"
   ]
  },
  {
   "cell_type": "markdown",
   "metadata": {
    "deletable": true,
    "editable": true
   },
   "source": [
    "## 4 \n",
    "## 4.1 Classification"
   ]
  },
  {
   "cell_type": "code",
   "execution_count": 16,
   "metadata": {
    "collapsed": false,
    "deletable": true,
    "editable": true
   },
   "outputs": [
    {
     "name": "stdout",
     "output_type": "stream",
     "text": [
      "Extracting MNIST_data/train-images-idx3-ubyte.gz\n",
      "Extracting MNIST_data/train-labels-idx1-ubyte.gz\n",
      "Extracting MNIST_data/t10k-images-idx3-ubyte.gz\n",
      "Extracting MNIST_data/t10k-labels-idx1-ubyte.gz\n",
      "0.1109\n",
      "0.6405\n",
      "0.7391\n",
      "0.7822\n",
      "0.8002\n",
      "0.8219\n",
      "0.8314\n",
      "0.8364\n",
      "0.8384\n",
      "0.8478\n",
      "0.854\n",
      "0.8616\n",
      "0.8645\n",
      "0.8667\n",
      "0.8652\n",
      "0.8682\n",
      "0.87\n",
      "0.8724\n",
      "0.8717\n",
      "0.8754\n"
     ]
    }
   ],
   "source": [
    "import tensorflow as tf\n",
    "from tensorflow.examples.tutorials.mnist import input_data\n",
    "# number 1 to 10 data\n",
    "mnist = input_data.read_data_sets('MNIST_data', one_hot=True)\n",
    "\n",
    "def add_layer(inputs, in_size, out_size, activation_function=None,):\n",
    "    # add one more layer and return the output of this layer\n",
    "    Weights = tf.Variable(tf.random_normal([in_size, out_size]))\n",
    "    biases = tf.Variable(tf.zeros([1, out_size]) + 0.1,)\n",
    "    Wx_plus_b = tf.matmul(inputs, Weights) + biases\n",
    "    if activation_function is None:\n",
    "        outputs = Wx_plus_b\n",
    "    else:\n",
    "        outputs = activation_function(Wx_plus_b,)\n",
    "    return outputs\n",
    "\n",
    "def compute_accuracy(v_xs, v_ys):\n",
    "    global prediction\n",
    "    y_pre = sess.run(prediction, feed_dict={xs: v_xs})\n",
    "    correct_prediction = tf.equal(tf.argmax(y_pre,1), tf.argmax(v_ys,1))\n",
    "    accuracy = tf.reduce_mean(tf.cast(correct_prediction, tf.float32))\n",
    "    result = sess.run(accuracy, feed_dict={xs: v_xs, ys: v_ys})\n",
    "    return result\n",
    "\n",
    "# define placeholder for inputs to network\n",
    "xs = tf.placeholder(tf.float32, [None, 784]) # 28x28\n",
    "ys = tf.placeholder(tf.float32, [None, 10])\n",
    "\n",
    "# add output layer, 就1层，木 hidden layer\n",
    "prediction = add_layer(xs, 784, 10,  activation_function=tf.nn.softmax)\n",
    "\n",
    "# the error between prediction and real data\n",
    "cross_entropy = tf.reduce_mean(-tf.reduce_sum(ys * tf.log(prediction),\n",
    "                                              reduction_indices=[1]))       # loss\n",
    "train_step = tf.train.GradientDescentOptimizer(0.5).minimize(cross_entropy)\n",
    "\n",
    "sess = tf.Session()\n",
    "# important step\n",
    "# tf.initialize_all_variables() no long valid from\n",
    "# 2017-03-02 if using tensorflow >= 0.12\n",
    "if int((tf.__version__).split('.')[1]) < 12 and int((tf.__version__).split('.')[0]) < 1:\n",
    "    init = tf.initialize_all_variables()\n",
    "else:\n",
    "    init = tf.global_variables_initializer()\n",
    "sess.run(init)\n",
    "\n",
    "for i in range(1000):\n",
    "    batch_xs, batch_ys = mnist.train.next_batch(100)\n",
    "    sess.run(train_step, feed_dict={xs: batch_xs, ys: batch_ys})\n",
    "    if i % 50 == 0:\n",
    "         # 用 test data 测试模型accuracy\n",
    "        print(compute_accuracy(\n",
    "mnist.test.images, mnist.test.labels))\n",
    "        \n",
    "#  mnist.test.images.shape --> (10000, 784)\n",
    "#  mnist.test.labels.shape --> (10000, 10)"
   ]
  },
  {
   "cell_type": "code",
   "execution_count": 15,
   "metadata": {
    "collapsed": false,
    "deletable": true,
    "editable": true
   },
   "outputs": [
    {
     "data": {
      "text/plain": [
       "(10000, 10)"
      ]
     },
     "execution_count": 15,
     "metadata": {},
     "output_type": "execute_result"
    }
   ],
   "source": [
    "mnist.test.labels.shape"
   ]
  },
  {
   "cell_type": "code",
   "execution_count": null,
   "metadata": {
    "collapsed": true,
    "deletable": true,
    "editable": true
   },
   "outputs": [],
   "source": []
  }
 ],
 "metadata": {
  "kernelspec": {
   "display_name": "Python 2",
   "language": "python",
   "name": "python2"
  },
  "language_info": {
   "codemirror_mode": {
    "name": "ipython",
    "version": 2
   },
   "file_extension": ".py",
   "mimetype": "text/x-python",
   "name": "python",
   "nbconvert_exporter": "python",
   "pygments_lexer": "ipython2",
   "version": "2.7.6"
  }
 },
 "nbformat": 4,
 "nbformat_minor": 2
}
